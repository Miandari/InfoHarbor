{
 "cells": [
  {
   "cell_type": "markdown",
   "id": "fcd3f503",
   "metadata": {},
   "source": [
    "# File Structure Generator\n",
    "\n",
    "This notebook allows you to create empty files and folders according to a specified tree structure."
   ]
  },
  {
   "cell_type": "markdown",
   "id": "cbb32f0b",
   "metadata": {},
   "source": [
    "## Import Required Libraries\n",
    "\n",
    "Import the necessary libraries, such as os and pathlib, to handle file and folder creation."
   ]
  },
  {
   "cell_type": "code",
   "execution_count": null,
   "id": "995b8d21",
   "metadata": {},
   "outputs": [],
   "source": [
    "import os\n",
    "import pathlib\n",
    "from pathlib import Path\n",
    "import json"
   ]
  },
  {
   "cell_type": "markdown",
   "id": "6dd1feb4",
   "metadata": {},
   "source": [
    "## Define Directory and File Structure\n",
    "\n",
    "Define the tree structure as a dictionary or nested list to represent the folders and files."
   ]
  },
  {
   "cell_type": "code",
   "execution_count": null,
   "id": "a3f38630",
   "metadata": {},
   "outputs": [],
   "source": [
    "# Define your directory structure as a nested dictionary\n",
    "# Files are represented as strings, directories as dictionaries\n",
    "\n",
    "file_structure = {\n",
    "    \"project_root\": {\n",
    "        \"data\": {\n",
    "            \"raw\": {},\n",
    "            \"processed\": {},\n",
    "            \"README.md\": None\n",
    "        },\n",
    "        \"notebooks\": {\n",
    "            \"exploration.ipynb\": None,\n",
    "            \"data_processing.ipynb\": None\n",
    "        },\n",
    "        \"src\": {\n",
    "            \"utils\": {\n",
    "                \"__init__.py\": None,\n",
    "                \"helpers.py\": None\n",
    "            },\n",
    "            \"models\": {\n",
    "                \"__init__.py\": None,\n",
    "                \"model.py\": None\n",
    "            },\n",
    "            \"__init__.py\": None,\n",
    "            \"main.py\": None\n",
    "        },\n",
    "        \"tests\": {\n",
    "            \"__init__.py\": None,\n",
    "            \"test_model.py\": None\n",
    "        },\n",
    "        \"README.md\": None,\n",
    "        \"requirements.txt\": None,\n",
    "        \".gitignore\": None\n",
    "    }\n",
    "}\n",
    "\n",
    "# Alternatively, you can define it as a list of paths\n",
    "path_list = [\n",
    "    \"project_root/data/raw\",\n",
    "    \"project_root/data/processed\",\n",
    "    \"project_root/data/README.md\",\n",
    "    \"project_root/notebooks/exploration.ipynb\",\n",
    "    \"project_root/notebooks/data_processing.ipynb\",\n",
    "    \"project_root/src/utils/__init__.py\",\n",
    "    \"project_root/src/utils/helpers.py\",\n",
    "    \"project_root/src/models/__init__.py\",\n",
    "    \"project_root/src/models/model.py\",\n",
    "    \"project_root/src/__init__.py\",\n",
    "    \"project_root/src/main.py\",\n",
    "    \"project_root/tests/__init__.py\",\n",
    "    \"project_root/tests/test_model.py\",\n",
    "    \"project_root/README.md\",\n",
    "    \"project_root/requirements.txt\",\n",
    "    \"project_root/.gitignore\"\n",
    "]\n",
    "\n",
    "# Print the structure for verification\n",
    "print(json.dumps(file_structure, indent=2))"
   ]
  },
  {
   "cell_type": "markdown",
   "id": "b5c7f88e",
   "metadata": {},
   "source": [
    "## Create Folders\n",
    "\n",
    "Iterate through the defined structure and create the required folders using os.makedirs or pathlib.Path.mkdir."
   ]
  },
  {
   "cell_type": "code",
   "execution_count": null,
   "id": "af0e2732",
   "metadata": {},
   "outputs": [],
   "source": [
    "def create_folders_from_dict(base_path, structure, parent_key=None):\n",
    "    \"\"\"Create folders from a nested dictionary structure.\"\"\"\n",
    "    if parent_key:\n",
    "        current_path = Path(base_path) / parent_key\n",
    "        print(f\"Creating directory: {current_path}\")\n",
    "        current_path.mkdir(parents=True, exist_ok=True)\n",
    "    else:\n",
    "        current_path = Path(base_path)\n",
    "    \n",
    "    # If structure is a dictionary, iterate through its items\n",
    "    if isinstance(structure, dict):\n",
    "        for key, value in structure.items():\n",
    "            if isinstance(value, dict):\n",
    "                # If value is a dictionary, it's a directory\n",
    "                new_path = current_path / key\n",
    "                print(f\"Creating directory: {new_path}\")\n",
    "                new_path.mkdir(exist_ok=True)\n",
    "                # Recursively process subdirectories\n",
    "                create_folders_from_dict(current_path, {key: value}, None)\n",
    "                \n",
    "def create_folders_from_list(base_path, path_list):\n",
    "    \"\"\"Create folders from a list of paths.\"\"\"\n",
    "    for path_str in path_list:\n",
    "        full_path = Path(base_path) / path_str\n",
    "        if not full_path.suffix:  # No file extension means it's likely a directory\n",
    "            print(f\"Creating directory: {full_path}\")\n",
    "            full_path.mkdir(parents=True, exist_ok=True)\n",
    "\n",
    "# Base path where the structure will be created\n",
    "base_path = Path(\"./output_structure\")\n",
    "\n",
    "# Create folders using dictionary structure\n",
    "create_folders_from_dict(base_path, file_structure)\n",
    "\n",
    "# Uncomment to use the list approach instead\n",
    "# create_folders_from_list(base_path, path_list)"
   ]
  },
  {
   "cell_type": "markdown",
   "id": "00c2cfbd",
   "metadata": {},
   "source": [
    "## Create Files\n",
    "\n",
    "Iterate through the structure and create empty files using open() with the 'w' mode or pathlib.Path.touch."
   ]
  },
  {
   "cell_type": "code",
   "execution_count": null,
   "id": "1b92e956",
   "metadata": {},
   "outputs": [],
   "source": [
    "def create_files_from_dict(base_path, structure, parent_path=None):\n",
    "    \"\"\"Create files from a nested dictionary structure.\"\"\"\n",
    "    current_path = Path(base_path)\n",
    "    if parent_path:\n",
    "        current_path = current_path / parent_path\n",
    "    \n",
    "    if isinstance(structure, dict):\n",
    "        for key, value in structure.items():\n",
    "            if value is None:\n",
    "                # This is a file\n",
    "                file_path = current_path / key\n",
    "                print(f\"Creating file: {file_path}\")\n",
    "                file_path.touch(exist_ok=True)\n",
    "            elif isinstance(value, dict):\n",
    "                # This is a directory\n",
    "                new_parent = key if parent_path is None else f\"{parent_path}/{key}\"\n",
    "                create_files_from_dict(base_path, value, new_parent)\n",
    "\n",
    "def create_files_from_list(base_path, path_list):\n",
    "    \"\"\"Create files from a list of paths.\"\"\"\n",
    "    for path_str in path_list:\n",
    "        full_path = Path(base_path) / path_str\n",
    "        if full_path.suffix:  # Has file extension, so it's a file\n",
    "            print(f\"Creating file: {full_path}\")\n",
    "            # Create parent directories if they don't exist\n",
    "            full_path.parent.mkdir(parents=True, exist_ok=True)\n",
    "            # Create the file\n",
    "            full_path.touch(exist_ok=True)\n",
    "\n",
    "# Create files using dictionary structure\n",
    "create_files_from_dict(base_path, file_structure)\n",
    "\n",
    "# Uncomment to use the list approach instead\n",
    "# create_files_from_list(base_path, path_list)"
   ]
  },
  {
   "cell_type": "markdown",
   "id": "6996ccda",
   "metadata": {},
   "source": [
    "## Verify Structure\n",
    "\n",
    "Check if the files and folders were created correctly."
   ]
  },
  {
   "cell_type": "code",
   "execution_count": null,
   "id": "228618b4",
   "metadata": {},
   "outputs": [],
   "source": [
    "def print_directory_tree(path, prefix=\"\"):\n",
    "    \"\"\"Print a directory tree structure.\"\"\"\n",
    "    path = Path(path)\n",
    "    if not path.is_dir():\n",
    "        return\n",
    "    \n",
    "    # Print current directory\n",
    "    print(f\"{prefix}📁 {path.name}/\")\n",
    "    \n",
    "    # Increase indentation for contents\n",
    "    prefix += \"   \"\n",
    "    \n",
    "    # List and sort directory contents\n",
    "    paths = sorted(list(path.iterdir()), key=lambda p: (not p.is_dir(), p.name))\n",
    "    \n",
    "    # Print each item\n",
    "    for i, p in enumerate(paths):\n",
    "        is_last = i == len(paths) - 1\n",
    "        if p.is_dir():\n",
    "            # If directory, recursively print its contents\n",
    "            print_directory_tree(p, prefix)\n",
    "        else:\n",
    "            # If file, just print its name\n",
    "            print(f\"{prefix}📄 {p.name}\")\n",
    "\n",
    "# Verify the created structure\n",
    "print(\"\\nCreated directory structure:\")\n",
    "print_directory_tree(base_path)"
   ]
  },
  {
   "cell_type": "markdown",
   "id": "5d8f9bfc",
   "metadata": {},
   "source": [
    "## Clean up (Optional)\n",
    "\n",
    "Remove all created files and folders if needed."
   ]
  },
  {
   "cell_type": "code",
   "execution_count": null,
   "id": "80b77582",
   "metadata": {},
   "outputs": [],
   "source": [
    "import shutil\n",
    "\n",
    "def cleanup(path):\n",
    "    \"\"\"Remove all created files and folders.\"\"\"\n",
    "    path = Path(path)\n",
    "    if path.exists():\n",
    "        print(f\"Removing directory: {path}\")\n",
    "        shutil.rmtree(path)\n",
    "        print(\"Cleanup complete.\")\n",
    "    else:\n",
    "        print(f\"Directory {path} does not exist. Nothing to clean up.\")\n",
    "\n",
    "# Uncomment the following line to clean up the created structure\n",
    "# cleanup(base_path)"
   ]
  }
 ],
 "metadata": {
  "language_info": {
   "name": "python"
  }
 },
 "nbformat": 4,
 "nbformat_minor": 5
}
